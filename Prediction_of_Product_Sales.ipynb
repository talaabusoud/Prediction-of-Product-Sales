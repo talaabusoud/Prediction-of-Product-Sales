{
  "nbformat": 4,
  "nbformat_minor": 0,
  "metadata": {
    "colab": {
      "provenance": [],
      "authorship_tag": "ABX9TyOKBTcBzMHNhVFnwYxAOGDe",
      "include_colab_link": true
    },
    "kernelspec": {
      "name": "python3",
      "display_name": "Python 3"
    },
    "language_info": {
      "name": "python"
    }
  },
  "cells": [
    {
      "cell_type": "markdown",
      "metadata": {
        "id": "view-in-github",
        "colab_type": "text"
      },
      "source": [
        "<a href=\"https://colab.research.google.com/github/talaabusoud/Prediction-of-Product-Sales/blob/main/Prediction_of_Product_Sales.ipynb\" target=\"_parent\"><img src=\"https://colab.research.google.com/assets/colab-badge.svg\" alt=\"Open In Colab\"/></a>"
      ]
    },
    {
      "cell_type": "markdown",
      "source": [
        "# Prediction of Product Sales\n",
        "- Author: Tala AbuSoud\n",
        "\n",
        "\n"
      ],
      "metadata": {
        "id": "DB04F4OadgNj"
      }
    },
    {
      "cell_type": "markdown",
      "source": [
        "## Project Overview"
      ],
      "metadata": {
        "id": "6IzNWFtVdgVl"
      }
    },
    {
      "cell_type": "markdown",
      "source": [],
      "metadata": {
        "id": "idR-Se1udgaD"
      }
    },
    {
      "cell_type": "markdown",
      "source": [
        "## Load and Inspect Data"
      ],
      "metadata": {
        "id": "-MiTAS4adgde"
      }
    },
    {
      "cell_type": "code",
      "source": [],
      "metadata": {
        "id": "wCOfLQwaeLv-"
      },
      "execution_count": null,
      "outputs": []
    },
    {
      "cell_type": "markdown",
      "source": [
        "## Clean Data"
      ],
      "metadata": {
        "id": "4AdEvPDXeMYj"
      }
    },
    {
      "cell_type": "code",
      "source": [],
      "metadata": {
        "id": "qDlss-uPePCz"
      },
      "execution_count": null,
      "outputs": []
    },
    {
      "cell_type": "markdown",
      "source": [
        "## Exploratory Data Analysis"
      ],
      "metadata": {
        "id": "envFvQTAeSZR"
      }
    },
    {
      "cell_type": "code",
      "source": [],
      "metadata": {
        "id": "OaxK4poUeV3n"
      },
      "execution_count": null,
      "outputs": []
    },
    {
      "cell_type": "markdown",
      "source": [
        "## Feature Inspection\n"
      ],
      "metadata": {
        "id": "q-hIGrVgeWhj"
      }
    },
    {
      "cell_type": "code",
      "source": [],
      "metadata": {
        "id": "IJ2u7qe1eaVD"
      },
      "execution_count": null,
      "outputs": []
    }
  ]
}